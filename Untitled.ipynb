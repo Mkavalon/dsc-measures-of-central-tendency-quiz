{
 "cells": [
  {
   "cell_type": "code",
   "execution_count": 1,
   "metadata": {},
   "outputs": [
    {
     "data": {
      "text/plain": [
       "18.0"
      ]
     },
     "execution_count": 1,
     "metadata": {},
     "output_type": "execute_result"
    }
   ],
   "source": [
    "x = [19, 18, 21, 16, 15, 17, 20, 18] \n",
    "\n",
    "mean = sum(x)/len(x)\n",
    "mean\n",
    "# 1   "
   ]
  },
  {
   "cell_type": "code",
   "execution_count": 7,
   "metadata": {},
   "outputs": [
    {
     "name": "stdout",
     "output_type": "stream",
     "text": [
      "[-17, 4, 6, 11, 22, 56, 80]\n",
      "7\n"
     ]
    },
    {
     "data": {
      "text/plain": [
       "11"
      ]
     },
     "execution_count": 7,
     "metadata": {},
     "output_type": "execute_result"
    }
   ],
   "source": [
    "y = [22, 56, 11, 4, -17, 6, 80 ]\n",
    "\n",
    "sorted_data =sorted(y)\n",
    "print(sorted_data)\n",
    "n = len(sorted_data)\n",
    "print(n)\n",
    "#odd number\n",
    "if n % 2 == 1:\n",
    "    middle_index = n // 2\n",
    "    median = sorted_data[middle_index]\n",
    "    \n",
    "#even number    \n",
    "else:\n",
    "    middle_index_1 = n // 2 - 1\n",
    "    middle_index_2 = n // 2\n",
    "    median = (sorted_data[middle_index_1] + sorted_data[middle_index_2]) / 2\n",
    "    \n",
    "    \n",
    "median\n",
    "#3        "
   ]
  },
  {
   "cell_type": "code",
   "execution_count": 8,
   "metadata": {},
   "outputs": [
    {
     "name": "stdout",
     "output_type": "stream",
     "text": [
      "[-126, -17, 4, 6, 11, 22, 56, 80]\n",
      "8\n"
     ]
    },
    {
     "data": {
      "text/plain": [
       "8.5"
      ]
     },
     "execution_count": 8,
     "metadata": {},
     "output_type": "execute_result"
    }
   ],
   "source": [
    "a = [22, 56, 11, 4, -17, 6, 80, -126 ]\n",
    "\n",
    "sorted_data =sorted(a)\n",
    "print(sorted_data)\n",
    "n = len(sorted_data)\n",
    "print(n)\n",
    "#odd number\n",
    "if n % 2 == 1:\n",
    "    middle_index = n // 2\n",
    "    median = sorted_data[middle_index]\n",
    "    \n",
    "#even number    \n",
    "else:\n",
    "    middle_index_1 = n // 2 - 1\n",
    "    middle_index_2 = n // 2\n",
    "    median = (sorted_data[middle_index_1] + sorted_data[middle_index_2]) / 2\n",
    "    \n",
    "    \n",
    "median\n",
    "\n",
    "#4"
   ]
  },
  {
   "cell_type": "code",
   "execution_count": 9,
   "metadata": {},
   "outputs": [
    {
     "name": "stdout",
     "output_type": "stream",
     "text": [
      "Counter({18: 2, 19: 1, 21: 1, 16: 1, 15: 1, 17: 1, 20: 1})\n",
      "2\n",
      "[18]\n",
      "The mode(s) are: [18]\n"
     ]
    }
   ],
   "source": [
    "from collections import Counter\n",
    "\n",
    "data = [19, 18, 21, 16, 15, 17, 20, 18 ]\n",
    "\n",
    "counts = Counter(data)\n",
    "print(counts)\n",
    "max_count = max(counts.values())\n",
    "print(max_count)\n",
    "modes = [key for key, value in counts.items() if value == max_count]\n",
    "print(modes)\n",
    "\n",
    "if len(modes) == len(data):\n",
    "    print(\"No unique mode found.\")\n",
    "else:\n",
    "    print(f\"The mode(s) are: {modes}\")\n",
    "    \n",
    "#1"
   ]
  },
  {
   "cell_type": "code",
   "execution_count": null,
   "metadata": {},
   "outputs": [],
   "source": [
    "# Out of mean, median, and mode, which is most sensitive to outliers in the data? is Mean\n",
    "#2\n",
    "\n",
    "#Out of mean, median, and mode, which is least sensitive to outliers in the data? is mode\n",
    "\n",
    "#3\n"
   ]
  }
 ],
 "metadata": {
  "kernelspec": {
   "display_name": "learn-env",
   "language": "python",
   "name": "learn-env"
  },
  "language_info": {
   "codemirror_mode": {
    "name": "ipython",
    "version": 3
   },
   "file_extension": ".py",
   "mimetype": "text/x-python",
   "name": "python",
   "nbconvert_exporter": "python",
   "pygments_lexer": "ipython3",
   "version": "3.8.8"
  }
 },
 "nbformat": 4,
 "nbformat_minor": 4
}
